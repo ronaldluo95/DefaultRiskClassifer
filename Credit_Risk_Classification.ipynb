{
 "cells": [
  {
   "cell_type": "markdown",
   "metadata": {},
   "source": [
    "\n",
    "# Credit Risk Classification \n",
    "\n",
    "#### Goal  \n",
    "   - Predict if a bank should accept or reject a loan application of an individual (binary classification)\n",
    "\n",
    "\n",
    "#### Challenges\n",
    "   - The dataset is highly unbalanced.\n",
    "   - The raw dataset has over 90 features.\n",
    "       - What are we going to use to predict this rating?  \n",
    "   - What is the proper algorithm we should use for this model?  \n",
    "       - How to improve the accuracy of our prediction? \n",
    "   - The dataset is large.\n",
    "\n",
    "#### Summary:  \n",
    "   - This notebook is focusing on classification. Algorithms include:\n",
    "       - Random Forests\n",
    "       - Naive Bayes\n",
    "       - XGBoost\n",
    "   - We will optimize each algorithm as much as possible.\n",
    "   - We will go over the basic process of ML modeling. But in practice, the process varies. \n",
    "   \n",
    "# Notebook Structure :\n",
    "    \n",
    "   - **An Overview of the dataset**\n",
    "     - Project scope\n",
    "     - Project goal\n",
    "   - **Clean the data**\n",
    "     - Null values handling\n",
    "     - Categorical features handling\n",
    "   - **Evaluate algorithms using raw data**\n",
    "     - Logistic  Regression\n",
    "     - KNN\n",
    "     - Support Vector Machine\n",
    "     - Random Forests\n",
    "     - naive bayes\n",
    "   - **Preprocessing**\n",
    "       - Create new features\n",
    "       - Feature importance for binary classification\n",
    "   - **Model Optimization**\n",
    "       - Confusion Matrix\n",
    "       - Recall and Precision \n",
    "   - **_Article: Pro & Cons for different algorithms_**\n",
    "       "
   ]
  },
  {
   "cell_type": "markdown",
   "metadata": {},
   "source": [
    "### ----Content Starts here-----\n",
    "\n",
    "\n",
    "#### Import necessary library and define class and functions to operate faster"
   ]
  },
  {
   "cell_type": "code",
   "execution_count": 1,
   "metadata": {},
   "outputs": [],
   "source": [
    "import os\n",
    "import pandas as pd\n",
    "import numpy as np\n",
    "import matplotlib.pyplot as plt\n",
    "import seaborn as sns"
   ]
  },
  {
   "cell_type": "markdown",
   "metadata": {},
   "source": [
    "Define some functions that could help us operate faster. "
   ]
  },
  {
   "cell_type": "code",
   "execution_count": 2,
   "metadata": {},
   "outputs": [],
   "source": [
    "def value_counts(cols):\n",
    "    value_counts = cols.value_counts(dropna = False )\n",
    "    return value_counts\n",
    "\n",
    "def missing_values_table(df):\n",
    "        # Total missing values\n",
    "        mis_val = df.isnull().sum()\n",
    "        \n",
    "        # Percentage of missing values\n",
    "        mis_val_percent = 100 * df.isnull().sum() / len(df)\n",
    "        \n",
    "        # Make a table with the results\n",
    "        mis_val_table = pd.concat([mis_val, mis_val_percent], axis=1)\n",
    "        \n",
    "        # Rename the columns\n",
    "        mis_val_table_ren_columns = mis_val_table.rename(\n",
    "        columns = {0 : 'Missing Values', 1 : '% of Total Values'})\n",
    "        \n",
    "        # Sort the table by percentage of missing descending\n",
    "        mis_val_table_ren_columns = mis_val_table_ren_columns[\n",
    "            mis_val_table_ren_columns.iloc[:,1] != 0].sort_values(\n",
    "        '% of Total Values', ascending=False).round(1)\n",
    "        \n",
    "        # Print some summary information\n",
    "        print (\"Your selected dataframe has \" + str(df.shape[1]) + \" columns.\\n\"      \n",
    "            \"There are \" + str(mis_val_table_ren_columns.shape[0]) +\n",
    "              \" columns that have missing values.\")\n",
    "        \n",
    "        # Return the dataframe with missing information\n",
    "        return mis_val_table_ren_columns\n",
    "    \n",
    "def check_null(df):\n",
    "    all_cols = df.isnull().sum().sort_values(ascending = False)\n",
    "    null_cols = all_cols[all_cols > 0]\n",
    "    return null_cols\n",
    "\n",
    "def check_null_percent(df):\n",
    "    null_cols = check_null(df)\n",
    "    null_percent = ((null_cols / len(df))* 100).round(2)\n",
    "    return null_percent\n",
    "\n",
    "def index_to_list(df):\n",
    "    index_to_list = df.index.to_list()\n",
    "    return index_to_list\n",
    "\n",
    "def drop_cols(df, cols):\n",
    "    df = df.drop(cols, axis = 1)\n",
    "    return df\n",
    "\n",
    "def drop_threshold_cols(df, threshold):\n",
    "    null_percent = check_null_percent(df)\n",
    "    over_threshold_col = null_percent[null_percent > threshold]\n",
    "    over_threshold_col = index_to_list(over_threshold_col)\n",
    "    df = df.drop(over_threshold_col, axis = 1)\n",
    "    return df\n",
    "\n",
    "def fill_cols_zero(df, cols):\n",
    "    df[cols] = df[cols].fillna(value=0)\n",
    "    return df\n",
    "\n",
    "def fill_cols_mode(df, cols):\n",
    "    for col in cols:\n",
    "        df[col] = df[col].fillna(df[col].mode()[0])\n",
    "    return df\n",
    "\n",
    "def fill_cols_mean(df, cols):\n",
    "    for col in cols:\n",
    "        df[col] = df[col].fillna(df[col].mean())\n",
    "    return df\n",
    "\n",
    "def check_start(df, cols, vals):\n",
    "    lst = []\n",
    "    for col in cols:\n",
    "        for val in vals:\n",
    "            if col.startswith(val):\n",
    "                lst.append(col)\n",
    "    return lst\n",
    "\n",
    "def check_end(df, cols, vals):\n",
    "    lst = []\n",
    "    for col in cols:\n",
    "        for val in vals:\n",
    "            if col.endswith(val):\n",
    "                lst.append(col)\n",
    "    return lst\n",
    "\n",
    "def return_cat_cols(df):\n",
    "    cat_cols = df.select_dtypes(include='object').columns.to_list()\n",
    "    return cat_cols\n",
    "\n",
    "def check_cat_cols(df):\n",
    "    cat_cols = df.select_dtypes(include='object').columns.to_list()\n",
    "    for col in cat_cols:\n",
    "        print('{} has {} levels\\n'.format(col, len(df[col].value_counts(ascending=True))))\n",
    "\n",
    "def train_test_split(df, test_size:float):\n",
    "    from sklearn.model_selection import train_test_split, cross_val_score\n",
    "    from sklearn.preprocessing import StandardScaler\n",
    "    X = df.iloc[:,1:]\n",
    "    y = df.iloc[:,0] \n",
    "    X_train, X_test, y_train, y_test = train_test_split(X, y, test_size = 0.3, random_state=42)\n",
    "    sc = StandardScaler()\n",
    "    X_train = sc.fit_transform(X_train)\n",
    "    X_test = sc.fit_transform(X_test)\n",
    "    return X_train, X_test, y_train, y_test\n",
    "\n",
    "def min_max_scaler_X(X_train, X_test):\n",
    "    from sklearn.preprocessing import StandardScaler\n",
    "    sc = StandardScaler()\n",
    "    X_train = sc.fit_transform(X_train)\n",
    "    X_test = sc.fit_transform(X_test)\n",
    "    \n",
    "    \n",
    "    \n",
    "# def plot_confusion_matrix(model):\n",
    "#     from sklearn.metrics import plot_confusion_matrix\n",
    "#     np.set_printoptions(precision=2)\n",
    "#     titles_options = [(\"Confusion matrix, without normalization\", None),\n",
    "#                       (\"Normalized confusion matrix\", 'true')]\n",
    "#     for title, normalize in titles_options:\n",
    "#         disp = plot_confusion_matrix(model, X_test, y_test,\n",
    "#                                      display_labels=[0,1],\n",
    "#                                      cmap=plt.cm.Greys,\n",
    "#                                      normalize=normalize)\n",
    "#         disp.ax_.set_title(title)\n",
    "#     plt.show()\n",
    "\n",
    "# def f1_score(model):\n",
    "#     from sklearn.metrics import f1_score\n",
    "#     y_pred = model.predict(X_test)\n",
    "#     f1_score = f1_score(y_test, y_pred).round(2)\n",
    "#     print('f1 score is: {}'.format(f1_score))"
   ]
  },
  {
   "cell_type": "code",
   "execution_count": 3,
   "metadata": {},
   "outputs": [],
   "source": [
    "# path = 'C:\\\\Users\\\\ron.luo\\\\Documents\\\\Default Risk'\n",
    "# raw_file ='application_train.csv'\n",
    "# os.chdir(path)\n",
    "# source = pd.read_csv(raw_file, header = 0, index_col=False, engine='python')"
   ]
  },
  {
   "cell_type": "code",
   "execution_count": 4,
   "metadata": {},
   "outputs": [],
   "source": [
    "\n",
    "raw_file ='application_train.csv'\n",
    "source = pd.read_csv(raw_file, header = 0, index_col=False, engine='python')"
   ]
  },
  {
   "cell_type": "code",
   "execution_count": 5,
   "metadata": {},
   "outputs": [],
   "source": [
    "df = source.copy()"
   ]
  },
  {
   "cell_type": "markdown",
   "metadata": {},
   "source": [
    "## EDA"
   ]
  },
  {
   "cell_type": "markdown",
   "metadata": {},
   "source": [
    "#### Target Values\n",
    "\n",
    "Very obvious is that the dataset is imbalanced. The ratio of target 1 and target 0 loos almost 1: 10."
   ]
  },
  {
   "cell_type": "code",
   "execution_count": 6,
   "metadata": {},
   "outputs": [
    {
     "data": {
      "text/plain": [
       "<matplotlib.axes._subplots.AxesSubplot at 0x1a1cdcf250>"
      ]
     },
     "execution_count": 6,
     "metadata": {},
     "output_type": "execute_result"
    },
    {
     "data": {
      "image/png": "[encoded data removed]",
      "text/plain": [
       "<Figure size 432x288 with 1 Axes>"
      ]
     },
     "metadata": {
      "needs_background": "light"
     },
     "output_type": "display_data"
    }
   ],
   "source": [
    "sns.countplot(data=df, x='TARGET', palette='mako')"
   ]
  },
  {
   "cell_type": "markdown",
   "metadata": {},
   "source": [
    "#### Missing Values\n",
    "\n",
    "From the table below, we saw that some of the features have a high percentage of missing value.   \n",
    "We could drop them of fill them, but either method introduce issues (biases / lost important information).  \n",
    "For now, we will let them go.\n"
   ]
  },
  {
   "cell_type": "code",
   "execution_count": 7,
   "metadata": {
    "scrolled": false
   },
   "outputs": [],
   "source": [
    "# missing_values_table(df)"
   ]
  },
  {
   "cell_type": "code",
   "execution_count": 8,
   "metadata": {},
   "outputs": [],
   "source": [
    "### Add this line for testing\n",
    "# df = drop_threshold_cols(df, 50)"
   ]
  },
  {
   "cell_type": "markdown",
   "metadata": {},
   "source": [
    "#### Understand the distribution of continuous columns.\n",
    "_The cell below is comment out. Its purpose is to look at the distribution of each continuous feature group by Target._"
   ]
  },
  {
   "cell_type": "code",
   "execution_count": 9,
   "metadata": {
    "scrolled": false
   },
   "outputs": [],
   "source": [
    "# ncols = 3\n",
    "# nrows = 21\n",
    "\n",
    "# ## Draw a graph with 3 cols x 21 rows and size of 40 x 250\n",
    "# fig, axs = plt.subplots(ncols=ncols, nrows=nrows, figsize = (40,250))  \n",
    "\n",
    "# for row in range(nrows):\n",
    "#     for col in range(ncols):\n",
    "#         ax = axs[row][col]\n",
    "#         i = row*ncols + col  #### Go over all the index\n",
    "        \n",
    "#         if i < len(null_list) and df[null_list[i]].dtype != 'object':   ### Check if a column is categorical\n",
    "#             sns.kdeplot(data=df, x=df.loc[(df['TARGET'] == 1), \n",
    "#                 null_list[i]], color = 'orange', shade = True, label = 'Class 1', ax = ax, bw_adjust=3)\n",
    "#             sns.kdeplot(data=df, x=df.loc[(df['TARGET'] == 0), \n",
    "#                        null_list[i]], shade = True, color = 'blueviolet', label = 'Class 0', ax = ax, bw_adjust=5)\n",
    "#             ax.set_title('{}'.format(null_dict[null_list[i]]))"
   ]
  },
  {
   "cell_type": "markdown",
   "metadata": {},
   "source": [
    "By eyeballing the distribution of each continuous variable, we see three of them are very different - 'EXT_SOURCE_1' and 'EXT_SOURCE_2', 'EXT_SOURCE_3'. Take a closer look"
   ]
  },
  {
   "cell_type": "code",
   "execution_count": 10,
   "metadata": {
    "scrolled": true
   },
   "outputs": [
    {
     "data": {
      "text/plain": [
       "<matplotlib.legend.Legend at 0x1a1d2f7150>"
      ]
     },
     "execution_count": 10,
     "metadata": {},
     "output_type": "execute_result"
    },
    {
     "data": {
      "image/png": "[encoded data removed]",
      "text/plain": [
       "<Figure size 1080x216 with 3 Axes>"
      ]
     },
     "metadata": {
      "needs_background": "light"
     },
     "output_type": "display_data"
    }
   ],
   "source": [
    "fig, (ax1,ax2, ax3) = plt.subplots(1,3, figsize = (15,3))\n",
    "\n",
    "sns.kdeplot(data=df, x=df.loc[(df['TARGET'] == 1), \n",
    "            'EXT_SOURCE_1'], color = 'orange', shade = True, label = 'Class 1', ax = ax1)\n",
    "sns.kdeplot(data=df, x=df.loc[(df['TARGET'] == 0), \n",
    "            'EXT_SOURCE_1'], color = 'blueviolet', shade = True, label = 'Class 0', ax = ax1)\n",
    "\n",
    "\n",
    "sns.kdeplot(data=df, x=df.loc[(df['TARGET'] == 1), \n",
    "           'EXT_SOURCE_2'], color = 'orange', shade = True, label = 'Class 1', ax = ax2)\n",
    "\n",
    "sns.kdeplot(data=df, x=df.loc[(df['TARGET'] == 0), \n",
    "           'EXT_SOURCE_2'], color = 'blueviolet', shade = True, label = 'Class 0', ax = ax2)\n",
    "\n",
    "sns.kdeplot(data=df, x=df.loc[(df['TARGET'] == 1), \n",
    "           'EXT_SOURCE_3'], color = 'orange', shade = True, label = 'Class 1', ax = ax3)\n",
    "sns.kdeplot(data=df, x=df.loc[(df['TARGET'] == 0), \n",
    "           'EXT_SOURCE_3'], color = 'blueviolet', shade = True, label = 'Class 0', ax = ax3)\n",
    "\n",
    "plt.legend()"
   ]
  },
  {
   "cell_type": "markdown",
   "metadata": {},
   "source": [
    "##### We may also want to find some interesting numbers among the features"
   ]
  },
  {
   "cell_type": "markdown",
   "metadata": {},
   "source": [
    "Looking at the distribution of applicant’s annual income, turn out that the distribution is extremely imbalanced. This graph told us that that are some extreme values in the applicant's annual income. The boxplot below showed us the similar information: the outliner is far away from most of the people."
   ]
  },
  {
   "cell_type": "code",
   "execution_count": 11,
   "metadata": {
    "scrolled": true
   },
   "outputs": [
    {
     "data": {
      "text/plain": [
       "<matplotlib.legend.Legend at 0x1a1d3d5410>"
      ]
     },
     "execution_count": 11,
     "metadata": {},
     "output_type": "execute_result"
    },
    {
     "data": {
      "image/png": "[encoded data removed]",
      "text/plain": [
       "<Figure size 432x288 with 1 Axes>"
      ]
     },
     "metadata": {
      "needs_background": "light"
     },
     "output_type": "display_data"
    }
   ],
   "source": [
    "sns.kdeplot(data=df, x=df.loc[(df['TARGET'] == 0), \n",
    "           'AMT_INCOME_TOTAL'], color = 'blueviolet', shade = True, label = 'Class 0', bw_adjust=2)\n",
    "sns.kdeplot(data=df, x=df.loc[(df['TARGET'] == 1), \n",
    "           'AMT_INCOME_TOTAL'], color = 'orange', shade = True, label = 'Class 1', bw_adjust=2)\n",
    "plt.legend()"
   ]
  },
  {
   "cell_type": "code",
   "execution_count": 12,
   "metadata": {},
   "outputs": [
    {
     "data": {
      "text/plain": [
       "<matplotlib.axes._subplots.AxesSubplot at 0x1a1d2dafd0>"
      ]
     },
     "execution_count": 12,
     "metadata": {},
     "output_type": "execute_result"
    },
    {
     "data": {
      "image/png": "[encoded data removed]",
      "text/plain": [
       "<Figure size 432x288 with 1 Axes>"
      ]
     },
     "metadata": {
      "needs_background": "light"
     },
     "output_type": "display_data"
    }
   ],
   "source": [
    "sns.boxplot(data = df, x = df['AMT_INCOME_TOTAL'], hue = ['TARGET'])"
   ]
  },
  {
   "cell_type": "markdown",
   "metadata": {},
   "source": [
    "Convert the **[Age]** into **[Age_Group]**"
   ]
  },
  {
   "cell_type": "code",
   "execution_count": 13,
   "metadata": {},
   "outputs": [],
   "source": [
    "df['DAYS_BIRTH'] = abs(df['DAYS_BIRTH'])\n",
    "df['AGE'] = (df['DAYS_BIRTH'] // 365)\n",
    "bins = [10,20,30,40,50,60,70,80,90]\n",
    "labels = [\"(10,20)\",\"(20,30)\",\"(30,40)\", \"(40,50)\",\"(50,60)\",\"(60,70)\",\"(70,80)\",\"(80,90)\"]\n",
    "df['AGE_GROUP'] = pd.cut(df['AGE'], bins=bins, labels=labels)"
   ]
  },
  {
   "cell_type": "markdown",
   "metadata": {},
   "source": [
    "We want to see how each age group perform. It turned out that the default risk decreases by **[Age_Group]**."
   ]
  },
  {
   "cell_type": "code",
   "execution_count": 14,
   "metadata": {},
   "outputs": [
    {
     "data": {
      "text/plain": [
       "<matplotlib.axes._subplots.AxesSubplot at 0x1a5603c250>"
      ]
     },
     "execution_count": 14,
     "metadata": {},
     "output_type": "execute_result"
    },
    {
     "data": {
      "image/png": "[encoded data removed]",
      "text/plain": [
       "<Figure size 432x288 with 1 Axes>"
      ]
     },
     "metadata": {
      "needs_background": "light"
     },
     "output_type": "display_data"
    }
   ],
   "source": [
    "target_count = df[(df['TARGET'] == 1)]['AGE_GROUP'].value_counts()  ## AGE_GROUP Value count when Target = 1\n",
    "feature_count = df['AGE_GROUP'].value_counts()  ##AGE_GROUP count in the entire dataset\n",
    "ratio = target_count / feature_count\n",
    "ratio = ratio.to_frame().reset_index()\n",
    "ratio = ratio.rename(columns= {'index': 'levels', 'AGE_GROUP': '%'})\n",
    "sns.barplot(data = ratio, x = 'levels', y = '%', palette = 'mako')"
   ]
  },
  {
   "cell_type": "markdown",
   "metadata": {},
   "source": [
    "Same pattern could be seen by the feature **['REGION_RATING_CLIENT_W_CITY']**. Applicant living in the city rated '3' is more likely to default a loan."
   ]
  },
  {
   "cell_type": "code",
   "execution_count": 15,
   "metadata": {},
   "outputs": [
    {
     "data": {
      "text/plain": [
       "<matplotlib.axes._subplots.AxesSubplot at 0x1a26229ad0>"
      ]
     },
     "execution_count": 15,
     "metadata": {},
     "output_type": "execute_result"
    },
    {
     "data": {
      "image/png": "[encoded data removed]",
      "text/plain": [
       "<Figure size 432x288 with 1 Axes>"
      ]
     },
     "metadata": {
      "needs_background": "light"
     },
     "output_type": "display_data"
    }
   ],
   "source": [
    "target_count = df[(df['TARGET'] == 1)]['REGION_RATING_CLIENT_W_CITY'].value_counts()  ## AGE_GROUP Value count when Target = 1\n",
    "feature_count = df['REGION_RATING_CLIENT_W_CITY'].value_counts()  ##AGE_GROUP count in the entire dataset\n",
    "ratio = target_count / feature_count\n",
    "ratio = ratio.to_frame().reset_index()\n",
    "ratio = ratio.rename(columns= {'index': 'levels', 'REGION_RATING_CLIENT_W_CITY': '%'})\n",
    "sns.barplot(data = ratio, x = 'levels', y = '%', palette = 'mako')"
   ]
  },
  {
   "cell_type": "markdown",
   "metadata": {},
   "source": [
    "A reversed trend can be seen in the **[EDUCATION_TYPE]**. People with a higher education type will be a safe bet."
   ]
  },
  {
   "cell_type": "code",
   "execution_count": 16,
   "metadata": {},
   "outputs": [
    {
     "data": {
      "text/plain": [
       "<matplotlib.axes._subplots.AxesSubplot at 0x1a24c37350>"
      ]
     },
     "execution_count": 16,
     "metadata": {},
     "output_type": "execute_result"
    },
    {
     "data": {
      "image/png": "[encoded data removed]",
      "text/plain": [
       "<Figure size 1080x144 with 1 Axes>"
      ]
     },
     "metadata": {
      "needs_background": "light"
     },
     "output_type": "display_data"
    }
   ],
   "source": [
    "target_count = df[(df['TARGET'] == 1)]['NAME_EDUCATION_TYPE'].value_counts()  ## AGE_GROUP Value count when Target = 1\n",
    "feature_count = df['NAME_EDUCATION_TYPE'].value_counts()  ##AGE_GROUP count in the entire dataset\n",
    "fig, ax = plt.subplots(figsize = (15, 2))\n",
    "ratio = (target_count / feature_count).sort_values(ascending = True)\n",
    "ratio = ratio.to_frame().reset_index()\n",
    "ratio = ratio.rename(columns= {'index': 'levels', 'NAME_EDUCATION_TYPE': '%'})\n",
    "sns.barplot(data = ratio, x = 'levels', y = '%', palette = 'mako')"
   ]
  },
  {
   "cell_type": "markdown",
   "metadata": {},
   "source": [
    "Looking at **'DAY_EMPLOYED'**, the distribution is strange. A lot of people have a value of **365243**, but other than this all people have a negative values around **-200**."
   ]
  },
  {
   "cell_type": "code",
   "execution_count": 17,
   "metadata": {
    "scrolled": false
   },
   "outputs": [
    {
     "data": {
      "text/plain": [
       "<matplotlib.legend.Legend at 0x1a1f43a450>"
      ]
     },
     "execution_count": 17,
     "metadata": {},
     "output_type": "execute_result"
    },
    {
     "data": {
      "image/png": "[encoded data removed]",
      "text/plain": [
       "<Figure size 432x288 with 1 Axes>"
      ]
     },
     "metadata": {
      "needs_background": "light"
     },
     "output_type": "display_data"
    }
   ],
   "source": [
    "df['DAYS_EMPLOYED'] = abs(df['DAYS_EMPLOYED'])\n",
    "sns.kdeplot(data=df, x=df.loc[(df['TARGET'] == 0), \n",
    "           'DAYS_EMPLOYED'], color = 'blueviolet', shade = True, label = 'Class 0', legend=True, bw_adjust=2)\n",
    "sns.kdeplot(data=df, x=df.loc[(df['TARGET'] == 1), \n",
    "           'DAYS_EMPLOYED'], color = 'orange', shade = True, label = 'Class 1', legend=True, bw_adjust=2)\n",
    "plt.legend()"
   ]
  },
  {
   "cell_type": "code",
   "execution_count": 18,
   "metadata": {},
   "outputs": [],
   "source": [
    "df['DAYS_EMPLOYED_CLASS'] = np.where(df['DAYS_EMPLOYED']!= 365243, 1, 0)"
   ]
  },
  {
   "cell_type": "code",
   "execution_count": 19,
   "metadata": {},
   "outputs": [
    {
     "data": {
      "text/plain": [
       "<matplotlib.axes._subplots.AxesSubplot at 0x1a1d844550>"
      ]
     },
     "execution_count": 19,
     "metadata": {},
     "output_type": "execute_result"
    },
    {
     "data": {
      "image/png": "[encoded data removed]",
      "text/plain": [
       "<Figure size 432x288 with 1 Axes>"
      ]
     },
     "metadata": {
      "needs_background": "light"
     },
     "output_type": "display_data"
    }
   ],
   "source": [
    "target_count = df[(df['TARGET'] == 1)]['DAYS_EMPLOYED_CLASS'].value_counts()  ## AGE_GROUP Value count when Target = 1\n",
    "feature_count = df['DAYS_EMPLOYED_CLASS'].value_counts()  ##AGE_GROUP count in the entire dataset\n",
    "ratio = target_count / feature_count\n",
    "ratio = ratio.to_frame().reset_index()\n",
    "ratio = ratio.rename(columns= {'index': 'levels', 'DAYS_EMPLOYED_CLASS': '%'})\n",
    "sns.barplot(data = ratio, x = 'levels', y = '%', palette = 'mako')"
   ]
  },
  {
   "cell_type": "markdown",
   "metadata": {},
   "source": [
    "By using the barplot, it turned out that those having an extreme value are more likely to default a loan. "
   ]
  },
  {
   "cell_type": "markdown",
   "metadata": {},
   "source": [
    "### 1.3 Feature Enginnering"
   ]
  },
  {
   "cell_type": "markdown",
   "metadata": {},
   "source": [
    "From EDA, we have already created two new features: **['AGE_GROUP']** and **['DAYS_EMPLOYED_CLASS']**. And we are going to create more in this part. "
   ]
  },
  {
   "cell_type": "markdown",
   "metadata": {},
   "source": [
    "**[Total Document Received]**: columns start with 'FLAG_DOCUMENT' means if an applicant submit a document. We are going to sum these columns to get the total number of document received."
   ]
  },
  {
   "cell_type": "code",
   "execution_count": 20,
   "metadata": {},
   "outputs": [],
   "source": [
    "DOC_cols = check_start(df,df.columns,[\"FLAG_DOCUMENT\"])\n",
    "df['TOTAL_DOC'] = df[DOC_cols].sum(axis=1)"
   ]
  },
  {
   "cell_type": "markdown",
   "metadata": {},
   "source": [
    "**[Total Query]**: columns start with \"AMT_REQ_CREDIT_BUREAU\" means how many query an applicant send. We are going to sum these as well."
   ]
  },
  {
   "cell_type": "code",
   "execution_count": 21,
   "metadata": {},
   "outputs": [],
   "source": [
    "QUERY_cols = check_start(df,df.columns,[\"AMT_REQ_CREDIT_BUREAU\"])\n",
    "df['TOTAL_QUERY'] = df[QUERY_cols].sum(axis=1)"
   ]
  },
  {
   "cell_type": "markdown",
   "metadata": {},
   "source": [
    "**[Total Contact]**: we are going to sum how many contact methods the applicant provided"
   ]
  },
  {
   "cell_type": "code",
   "execution_count": 22,
   "metadata": {},
   "outputs": [],
   "source": [
    "CONTACT_cols = check_end(df,df.columns,[\"PHONE\",\"MOBILE\",\"EMAIL\"])\n",
    "df['TOTAL_CONTACT'] = df[CONTACT_cols].sum(axis=1)"
   ]
  },
  {
   "cell_type": "markdown",
   "metadata": {},
   "source": [
    "**[Social Circle Default Total]**: we are going to check the number that how many people in the applicant's social circle default the loan."
   ]
  },
  {
   "cell_type": "code",
   "execution_count": 23,
   "metadata": {},
   "outputs": [],
   "source": [
    "CIRCLE_cols =  check_end(df,df.columns,[\"CIRCLE\"])\n",
    "df['CIRCLE'] = df[CIRCLE_cols].sum(axis = 1)"
   ]
  },
  {
   "cell_type": "markdown",
   "metadata": {},
   "source": [
    "### Handle Missing Values  \n",
    "\n",
    "\n",
    "**Note**: though some algorhithms can handle or ignore missing values, it is in general a good idea to make your data as clean as possible."
   ]
  },
  {
   "cell_type": "markdown",
   "metadata": {},
   "source": [
    "<!--  ##### - 1.1.1 Set up threshold to drop columns with more than 25% of null values\n",
    " \n",
    "  In general, if a column has more than 25% of missing values, it can be dropped safely. -->"
   ]
  },
  {
   "cell_type": "code",
   "execution_count": 24,
   "metadata": {},
   "outputs": [
    {
     "data": {
      "text/plain": [
       "<matplotlib.legend.Legend at 0x1a1d1c39d0>"
      ]
     },
     "execution_count": 24,
     "metadata": {},
     "output_type": "execute_result"
    },
    {
     "data": {
      "image/png": "[encoded data removed]",
      "text/plain": [
       "<Figure size 1080x216 with 3 Axes>"
      ]
     },
     "metadata": {
      "needs_background": "light"
     },
     "output_type": "display_data"
    }
   ],
   "source": [
    "fig, (ax1,ax2, ax3) = plt.subplots(1,3, figsize = (15,3))\n",
    "\n",
    "sns.kdeplot(data=df, x=df.loc[(df['TARGET'] == 1), \n",
    "            'EXT_SOURCE_1'], color = 'orange', shade = True, label = 'Class 1', ax = ax1, bw_adjust=2)\n",
    "sns.kdeplot(data=df, x=df.loc[(df['TARGET'] == 0), \n",
    "            'EXT_SOURCE_1'], color = 'blueviolet', shade = True, label = 'Class 0', ax = ax1, bw_adjust=2)\n",
    "\n",
    "\n",
    "sns.kdeplot(data=df, x=df.loc[(df['TARGET'] == 1), \n",
    "           'EXT_SOURCE_2'], color = 'orange', shade = True, label = 'Class 1', ax = ax2, bw_adjust=2)\n",
    "\n",
    "sns.kdeplot(data=df, x=df.loc[(df['TARGET'] == 0), \n",
    "           'EXT_SOURCE_2'], color = 'blueviolet', shade = True, label = 'Class 0', ax = ax2, bw_adjust=2)\n",
    "\n",
    "sns.kdeplot(data=df, x=df.loc[(df['TARGET'] == 1), \n",
    "           'EXT_SOURCE_3'], color = 'orange', shade = True, label = 'Class 1', ax = ax3, bw_adjust=2)\n",
    "sns.kdeplot(data=df, x=df.loc[(df['TARGET'] == 0), \n",
    "           'EXT_SOURCE_3'], color = 'blueviolet', shade = True, label = 'Class 0', ax = ax3, bw_adjust=2)\n",
    "\n",
    "plt.legend()"
   ]
  },
  {
   "cell_type": "markdown",
   "metadata": {},
   "source": [
    "**Fill missing values by columns mean (Bad Idea)**"
   ]
  },
  {
   "cell_type": "code",
   "execution_count": 25,
   "metadata": {
    "scrolled": true
   },
   "outputs": [],
   "source": [
    "df2 = df[['TARGET', 'EXT_SOURCE_1', 'EXT_SOURCE_2', 'EXT_SOURCE_3']].copy()"
   ]
  },
  {
   "cell_type": "code",
   "execution_count": 26,
   "metadata": {},
   "outputs": [],
   "source": [
    "df_column_mean = df2.copy()"
   ]
  },
  {
   "cell_type": "code",
   "execution_count": 27,
   "metadata": {},
   "outputs": [],
   "source": [
    "EXT_cols = check_start(df_column_mean,df_column_mean.columns, ['EXT_SOURCE'])\n",
    "for col in EXT_cols:\n",
    "    df_column_mean[col] = df_column_mean[col].fillna(df_column_mean[col].mean())"
   ]
  },
  {
   "cell_type": "code",
   "execution_count": 28,
   "metadata": {},
   "outputs": [
    {
     "data": {
      "text/plain": [
       "<matplotlib.axes._subplots.AxesSubplot at 0x1a1e48f550>"
      ]
     },
     "execution_count": 28,
     "metadata": {},
     "output_type": "execute_result"
    },
    {
     "data": {
      "image/png": "[encoded data removed]",
      "text/plain": [
       "<Figure size 1080x216 with 3 Axes>"
      ]
     },
     "metadata": {
      "needs_background": "light"
     },
     "output_type": "display_data"
    }
   ],
   "source": [
    "fig, (ax1, ax2, ax3) = plt.subplots(nrows = 1, ncols = 3, figsize = (15, 3))\n",
    "sns.kdeplot(data=df_column_mean, x=df_column_mean.loc[(df_column_mean['TARGET'] == 1), \n",
    "            'EXT_SOURCE_1'], color = 'orange', shade = True, label = 'Class 1', ax = ax1)\n",
    "sns.kdeplot(data=df_column_mean, x=df_column_mean.loc[(df_column_mean['TARGET'] == 0), \n",
    "            'EXT_SOURCE_1'], color = 'blueviolet', shade = True, label = 'Class 0', ax = ax1)\n",
    "\n",
    "sns.kdeplot(data=df_column_mean, x=df_column_mean.loc[(df_column_mean['TARGET'] == 1), \n",
    "            'EXT_SOURCE_2'], color = 'orange', shade = True, label = 'Class 1', ax = ax2)\n",
    "sns.kdeplot(data=df_column_mean, x=df_column_mean.loc[(df_column_mean['TARGET'] == 0), \n",
    "            'EXT_SOURCE_2'], color = 'blueviolet', shade = True, label = 'Class 0', ax = ax2)\n",
    "\n",
    "sns.kdeplot(data=df_column_mean, x=df_column_mean.loc[(df_column_mean['TARGET'] == 1), \n",
    "            'EXT_SOURCE_3'], color = 'orange', shade = True, label = 'Class 1', ax= ax3)\n",
    "sns.kdeplot(data=df_column_mean, x=df_column_mean.loc[(df_column_mean['TARGET'] == 0), \n",
    "            'EXT_SOURCE_3'], color = 'blueviolet', shade = True, label = 'Class 0', ax = ax3)"
   ]
  },
  {
   "cell_type": "markdown",
   "metadata": {},
   "source": [
    "**Fill missing values by columns mean by target**"
   ]
  },
  {
   "cell_type": "code",
   "execution_count": 29,
   "metadata": {},
   "outputs": [],
   "source": [
    "df_column_target_mean = df2.copy()"
   ]
  },
  {
   "cell_type": "code",
   "execution_count": 30,
   "metadata": {},
   "outputs": [
    {
     "data": {
      "text/plain": [
       "['EXT_SOURCE_1', 'EXT_SOURCE_2', 'EXT_SOURCE_3']"
      ]
     },
     "execution_count": 30,
     "metadata": {},
     "output_type": "execute_result"
    }
   ],
   "source": [
    "TARGET_classes = [0,1]\n",
    "EXT_cols"
   ]
  },
  {
   "cell_type": "code",
   "execution_count": 31,
   "metadata": {},
   "outputs": [],
   "source": [
    "for t_class in TARGET_classes:\n",
    "    for col in EXT_cols: \n",
    "        df_column_target_mean.loc[(df_column_target_mean['TARGET'] == t_class), col] = df_column_target_mean.loc[(df_column_target_mean['TARGET'] == t_class), col].fillna(df2[df2['TARGET'] == t_class][col].mean())"
   ]
  },
  {
   "cell_type": "code",
   "execution_count": 32,
   "metadata": {},
   "outputs": [
    {
     "data": {
      "text/plain": [
       "<matplotlib.axes._subplots.AxesSubplot at 0x1a1e5a7a90>"
      ]
     },
     "execution_count": 32,
     "metadata": {},
     "output_type": "execute_result"
    },
    {
     "data": {
      "image/png": "[encoded data removed]",
      "text/plain": [
       "<Figure size 1080x216 with 3 Axes>"
      ]
     },
     "metadata": {
      "needs_background": "light"
     },
     "output_type": "display_data"
    }
   ],
   "source": [
    "fig, (ax1, ax2, ax3) = plt.subplots(nrows = 1, ncols = 3, figsize = (15, 3))\n",
    "sns.kdeplot(data=df_column_target_mean, x=df_column_target_mean.loc[(df_column_target_mean['TARGET'] == 1), \n",
    "            'EXT_SOURCE_1'], color = 'orange', shade = True, label = 'Class 1', ax = ax1)\n",
    "sns.kdeplot(data=df_column_target_mean, x=df_column_target_mean.loc[(df_column_target_mean['TARGET'] == 0), \n",
    "            'EXT_SOURCE_1'], color = 'blueviolet', shade = True, label = 'Class 0', ax = ax1)\n",
    "\n",
    "sns.kdeplot(data=df_column_target_mean, x=df_column_target_mean.loc[(df_column_target_mean['TARGET'] == 1), \n",
    "            'EXT_SOURCE_2'], color = 'orange', shade = True, label = 'Class 1', ax = ax2)\n",
    "sns.kdeplot(data=df_column_target_mean, x=df_column_target_mean.loc[(df_column_target_mean['TARGET'] == 0), \n",
    "            'EXT_SOURCE_2'], color = 'blueviolet', shade = True, label = 'Class 0', ax = ax2)\n",
    "\n",
    "sns.kdeplot(data=df_column_target_mean, x=df_column_target_mean.loc[(df_column_target_mean['TARGET'] == 1), \n",
    "            'EXT_SOURCE_3'], color = 'orange', shade = True, label = 'Class 1', ax= ax3)\n",
    "sns.kdeplot(data=df_column_target_mean, x=df_column_target_mean.loc[(df_column_target_mean['TARGET'] == 0), \n",
    "            'EXT_SOURCE_3'], color = 'blueviolet', shade = True, label = 'Class 0', ax = ax3)"
   ]
  },
  {
   "cell_type": "markdown",
   "metadata": {},
   "source": [
    "**Fill missing values using MICE**"
   ]
  },
  {
   "cell_type": "code",
   "execution_count": 33,
   "metadata": {},
   "outputs": [],
   "source": [
    "from sklearn.experimental import enable_iterative_imputer\n",
    "from sklearn.impute import IterativeImputer"
   ]
  },
  {
   "cell_type": "code",
   "execution_count": 34,
   "metadata": {},
   "outputs": [],
   "source": [
    "df3 = df[['TARGET', 'EXT_SOURCE_1', 'EXT_SOURCE_2', 'EXT_SOURCE_3']]"
   ]
  },
  {
   "cell_type": "code",
   "execution_count": 35,
   "metadata": {},
   "outputs": [],
   "source": [
    "df_mice_mean = df3.copy()\n",
    "imp_mean = IterativeImputer(random_state=20,max_iter = 250)\n",
    "imp_mean.fit(df_mice_mean)\n",
    "k = imp_mean.transform(df_mice_mean)\n",
    "k_pd = pd.DataFrame(k, columns = df3.columns)"
   ]
  },
  {
   "cell_type": "code",
   "execution_count": 36,
   "metadata": {},
   "outputs": [
    {
     "data": {
      "text/plain": [
       "<matplotlib.axes._subplots.AxesSubplot at 0x1a21c0e090>"
      ]
     },
     "execution_count": 36,
     "metadata": {},
     "output_type": "execute_result"
    },
    {
     "data": {
      "image/png": "[encoded data removed]",
      "text/plain": [
       "<Figure size 1080x216 with 3 Axes>"
      ]
     },
     "metadata": {
      "needs_background": "light"
     },
     "output_type": "display_data"
    }
   ],
   "source": [
    "fig, (ax1, ax2, ax3) = plt.subplots(nrows = 1, ncols = 3, figsize = (15, 3))\n",
    "sns.kdeplot(data=k_pd, x=k_pd.loc[(k_pd['TARGET'] == 1), \n",
    "            'EXT_SOURCE_1'], color = 'orange', shade = True, label = 'Class 1', ax = ax1)\n",
    "sns.kdeplot(data=k_pd, x=k_pd.loc[(k_pd['TARGET'] == 0), \n",
    "            'EXT_SOURCE_1'], color = 'blueviolet', shade = True, label = 'Class 0', ax = ax1)\n",
    "\n",
    "sns.kdeplot(data=k_pd, x=k_pd.loc[(k_pd['TARGET'] == 1), \n",
    "            'EXT_SOURCE_2'], color = 'orange', shade = True, label = 'Class 1', ax = ax2)\n",
    "sns.kdeplot(data=k_pd, x=k_pd.loc[(k_pd['TARGET'] == 0), \n",
    "            'EXT_SOURCE_2'], color = 'blueviolet', shade = True, label = 'Class 0', ax = ax2)\n",
    "\n",
    "sns.kdeplot(data=k_pd, x=k_pd.loc[(k_pd['TARGET'] == 1), \n",
    "            'EXT_SOURCE_3'], color = 'orange', shade = True, label = 'Class 1', ax= ax3)\n",
    "sns.kdeplot(data=k_pd, x=k_pd.loc[(k_pd['TARGET'] == 0), \n",
    "            'EXT_SOURCE_3'], color = 'blueviolet', shade = True, label = 'Class 0', ax = ax3)"
   ]
  },
  {
   "cell_type": "markdown",
   "metadata": {},
   "source": [
    "##### - 1.1.2 Fill each column accordingly"
   ]
  },
  {
   "cell_type": "markdown",
   "metadata": {},
   "source": [
    "- Some feautes have a Null value indicating it is zero. For these features, we fill 0"
   ]
  },
  {
   "cell_type": "markdown",
   "metadata": {},
   "source": [
    "Columns start with 'AMT_REQ' indicate the numbers of query an applicant sent. If it is Null, it means 0. We will fill 0 to these columns."
   ]
  },
  {
   "cell_type": "code",
   "execution_count": 37,
   "metadata": {},
   "outputs": [],
   "source": [
    "df_mice = df.copy()\n",
    "MEDI_cols = check_end(df_mice, df_mice.columns, ['MEDI'])\n",
    "AVG_cols = check_end(df_mice, df_mice.columns, ['AVG'])\n",
    "CIRCLE_cols = check_end(df_mice, df_mice, ['CIRCLE'])\n",
    "EXT_cols = check_start(df_mice, df_mice.columns, ['EXT'])\n",
    "AMT_cols = check_start(df_mice, df_mice.columns, ['AMT'])\n",
    "MODE_cols =  check_end(df_mice, df_mice.columns, ['MODE'])"
   ]
  },
  {
   "cell_type": "code",
   "execution_count": 38,
   "metadata": {},
   "outputs": [],
   "source": [
    "for col in df[MODE_cols]:\n",
    "    if df[col].dtypes == 'object':\n",
    "        MODE_cols.remove(col)"
   ]
  },
  {
   "cell_type": "code",
   "execution_count": 39,
   "metadata": {},
   "outputs": [],
   "source": [
    "All_cols = [MEDI_cols, AVG_cols, MODE_cols, CIRCLE_cols, EXT_cols, AMT_cols ]"
   ]
  },
  {
   "cell_type": "code",
   "execution_count": 40,
   "metadata": {},
   "outputs": [],
   "source": [
    "# Based on experiement, MICE perform best when TARGET is included\n",
    "for cols in All_cols:\n",
    "    cols.append('TARGET')"
   ]
  },
  {
   "cell_type": "code",
   "execution_count": 41,
   "metadata": {},
   "outputs": [],
   "source": [
    "df_temp = df.copy()"
   ]
  },
  {
   "cell_type": "code",
   "execution_count": 42,
   "metadata": {},
   "outputs": [],
   "source": [
    "### This cell will take a while to process\n",
    "for cols in All_cols:\n",
    "    imp_mean = IterativeImputer(random_state=20,max_iter = 250)\n",
    "    imp_mean.fit(df_mice[cols])\n",
    "    df_mice_temp = imp_mean.transform(df_mice[cols])\n",
    "    df_mice_temp = pd.DataFrame(df_mice_temp, columns = cols)\n",
    "    df_temp[cols] = df_mice_temp"
   ]
  },
  {
   "cell_type": "code",
   "execution_count": 43,
   "metadata": {},
   "outputs": [],
   "source": [
    "df = df_temp.copy()"
   ]
  },
  {
   "cell_type": "code",
   "execution_count": 44,
   "metadata": {
    "scrolled": true
   },
   "outputs": [
    {
     "data": {
      "text/plain": [
       "<matplotlib.legend.Legend at 0x1a236b7e50>"
      ]
     },
     "execution_count": 44,
     "metadata": {},
     "output_type": "execute_result"
    },
    {
     "data": {
      "image/png": "[encoded data removed]",
      "text/plain": [
       "<Figure size 1080x216 with 3 Axes>"
      ]
     },
     "metadata": {
      "needs_background": "light"
     },
     "output_type": "display_data"
    }
   ],
   "source": [
    "fig, (ax1,ax2, ax3) = plt.subplots(1,3, figsize = (15,3))\n",
    "\n",
    "sns.kdeplot(data=df, x=df.loc[(df['TARGET'] == 1), \n",
    "            'EXT_SOURCE_1'], color = 'orange', shade = True, label = 'Class 1', ax = ax1, bw_adjust=2)\n",
    "sns.kdeplot(data=df, x=df.loc[(df['TARGET'] == 0), \n",
    "            'EXT_SOURCE_1'], color = 'blueviolet', shade = True, label = 'Class 0', ax = ax1, bw_adjust=2)\n",
    "\n",
    "\n",
    "sns.kdeplot(data=df, x=df.loc[(df['TARGET'] == 1), \n",
    "           'EXT_SOURCE_2'], color = 'orange', shade = True, label = 'Class 1', ax = ax2, bw_adjust=2)\n",
    "\n",
    "sns.kdeplot(data=df, x=df.loc[(df['TARGET'] == 0), \n",
    "           'EXT_SOURCE_2'], color = 'blueviolet', shade = True, label = 'Class 0', ax = ax2, bw_adjust=2)\n",
    "\n",
    "sns.kdeplot(data=df, x=df.loc[(df['TARGET'] == 1), \n",
    "           'EXT_SOURCE_3'], color = 'orange', shade = True, label = 'Class 1', ax = ax3, bw_adjust=2)\n",
    "sns.kdeplot(data=df, x=df.loc[(df['TARGET'] == 0), \n",
    "           'EXT_SOURCE_3'], color = 'blueviolet', shade = True, label = 'Class 0', ax = ax3, bw_adjust=2)\n",
    "\n",
    "plt.legend()"
   ]
  },
  {
   "cell_type": "code",
   "execution_count": 45,
   "metadata": {},
   "outputs": [
    {
     "name": "stdout",
     "output_type": "stream",
     "text": [
      "Your selected dataframe has 129 columns.\n",
      "There are 9 columns that have missing values.\n",
      "Your selected dataframe has 129 columns.\n",
      "There are 9 columns that have missing values.\n"
     ]
    }
   ],
   "source": [
    "missing_values_table(df) ## The remaining columns still have missing values. We are going to drop them for now\n",
    "other_cols = missing_values_table(df).index.to_list()\n",
    "df = df.drop(other_cols, axis = 1)"
   ]
  },
  {
   "cell_type": "markdown",
   "metadata": {},
   "source": [
    "#### 1.2 Handle Categorical Features"
   ]
  },
  {
   "cell_type": "markdown",
   "metadata": {},
   "source": [
    "Check how many levels each categorical feature has"
   ]
  },
  {
   "cell_type": "code",
   "execution_count": 46,
   "metadata": {
    "scrolled": true
   },
   "outputs": [
    {
     "name": "stdout",
     "output_type": "stream",
     "text": [
      "NAME_CONTRACT_TYPE has 2 levels\n",
      "\n",
      "CODE_GENDER has 3 levels\n",
      "\n",
      "FLAG_OWN_CAR has 2 levels\n",
      "\n",
      "FLAG_OWN_REALTY has 2 levels\n",
      "\n",
      "NAME_INCOME_TYPE has 8 levels\n",
      "\n",
      "NAME_EDUCATION_TYPE has 5 levels\n",
      "\n",
      "NAME_FAMILY_STATUS has 6 levels\n",
      "\n",
      "NAME_HOUSING_TYPE has 6 levels\n",
      "\n",
      "WEEKDAY_APPR_PROCESS_START has 7 levels\n",
      "\n",
      "ORGANIZATION_TYPE has 58 levels\n",
      "\n"
     ]
    }
   ],
   "source": [
    "check_cat_cols(df)"
   ]
  },
  {
   "cell_type": "code",
   "execution_count": 47,
   "metadata": {},
   "outputs": [],
   "source": [
    "cat_cols = df.select_dtypes(include = ['category','object']).columns.to_list()"
   ]
  },
  {
   "cell_type": "code",
   "execution_count": 48,
   "metadata": {},
   "outputs": [],
   "source": [
    "from sklearn.preprocessing import OneHotEncoder\n",
    "encoder = OneHotEncoder()\n",
    "cols_encoded = encoder.fit_transform(df[cat_cols])\n",
    "encode_cols = encoder.get_feature_names(cat_cols)\n",
    "enc_df = pd.DataFrame(cols_encoded.toarray(), columns = encode_cols )\n",
    "frames = [df, enc_df]\n",
    "df = pd.concat(frames, axis = 1, ignore_index=False)\n"
   ]
  },
  {
   "cell_type": "code",
   "execution_count": 49,
   "metadata": {},
   "outputs": [],
   "source": [
    "final_df = df.drop(cat_cols, axis = 1).copy()"
   ]
  },
  {
   "cell_type": "markdown",
   "metadata": {},
   "source": [
    "### Preparation before Algorithms Selection"
   ]
  },
  {
   "cell_type": "code",
   "execution_count": 50,
   "metadata": {},
   "outputs": [],
   "source": [
    "\n",
    "#### K_Fold testing\n",
    "from sklearn.model_selection import cross_val_score\n",
    "from sklearn.model_selection import train_test_split\n",
    "\n",
    "### Algorthims\n",
    "from sklearn.ensemble import RandomForestClassifier\n",
    "from sklearn.tree import DecisionTreeClassifier\n",
    "from sklearn.linear_model import LogisticRegression\n",
    "from sklearn.naive_bayes import GaussianNB\n",
    "from lightgbm import LGBMClassifier\n",
    "\n",
    "#Evaluation\n",
    "from sklearn.metrics import roc_curve, auc, accuracy_score, roc_auc_score\n",
    "from xgboost import XGBClassifier, plot_importance\n",
    "from sklearn.metrics import f1_score"
   ]
  },
  {
   "cell_type": "code",
   "execution_count": 51,
   "metadata": {},
   "outputs": [],
   "source": [
    "def plot_confusion_matrix(model):\n",
    "    from sklearn.metrics import plot_confusion_matrix\n",
    "    np.set_printoptions(precision=2)\n",
    "    titles_options = [(\"Confusion matrix, without normalization\", None),\n",
    "                      (\"Normalized confusion matrix\", 'true')]\n",
    "    for title, normalize in titles_options:\n",
    "        disp = plot_confusion_matrix(model, X_test, y_test,\n",
    "                                     display_labels=[0,1],\n",
    "                                     cmap=plt.cm.Greys,\n",
    "                                     normalize=normalize)\n",
    "        disp.ax_.set_title(title)\n",
    "    plt.show()\n",
    "\n",
    "    \n",
    "def f1_score(model):\n",
    "    from sklearn.metrics import f1_score\n",
    "    y_pred = model.predict(X_test)\n",
    "    f1_score = f1_score(y_test, y_pred).round(2)\n",
    "    print('f1 score of {} is: {}'.format(models_dict[model], f1_score))"
   ]
  },
  {
   "cell_type": "markdown",
   "metadata": {},
   "source": [
    "##### Downsampling"
   ]
  },
  {
   "cell_type": "code",
   "execution_count": null,
   "metadata": {},
   "outputs": [],
   "source": [
    "ratio_num = input('Do you want to downsampling (int / no): ')\n",
    "if ratio_num != 'no':\n",
    "    ratio = ratio_num\n",
    "    neg = final_df[final_df['TARGET']== 0]\n",
    "    target_len = len(final_df[final_df['TARGET'] == 1])\n",
    "    df_neg_cut = neg[0: round((ratio * target_len))]\n",
    "    df_true = final_df[final_df['TARGET']== 1]\n",
    "    cut_df = pd.concat([df_neg_cut, df_true], ignore_index=True)\n",
    "    df = cut_df.copy()\n",
    "else:\n",
    "    print('you did not cut the ratio')"
   ]
  },
  {
   "cell_type": "markdown",
   "metadata": {},
   "source": [
    "##### Split X and y"
   ]
  },
  {
   "cell_type": "code",
   "execution_count": null,
   "metadata": {},
   "outputs": [],
   "source": [
    "### Locate X and y in the dataset\n",
    "X = final_df.iloc[:,2:].values\n",
    "y = final_df.loc[:,'TARGET'].values"
   ]
  },
  {
   "cell_type": "code",
   "execution_count": null,
   "metadata": {},
   "outputs": [],
   "source": [
    "### Split X and y\n",
    "X_train, X_test, y_train, y_test = train_test_split(X, y, test_size = 0.4, random_state=2)"
   ]
  },
  {
   "cell_type": "code",
   "execution_count": null,
   "metadata": {},
   "outputs": [],
   "source": [
    "print(cross_val_score(tree, X, y, scoring = 'roc_auc', cv=10))"
   ]
  },
  {
   "cell_type": "code",
   "execution_count": null,
   "metadata": {
    "scrolled": true
   },
   "outputs": [],
   "source": [
    "cv = StratifiedKFold(n_splits=6)\n",
    "draw_cv_roc_curve(tree,cv,X,y)"
   ]
  },
  {
   "cell_type": "markdown",
   "metadata": {},
   "source": [
    "##### Scaling"
   ]
  },
  {
   "cell_type": "code",
   "execution_count": null,
   "metadata": {},
   "outputs": [],
   "source": [
    "from sklearn.preprocessing import StandardScaler\n",
    "answer = input('Are you going to scale or not (yes / no): ')\n",
    "if answer == 'yes':\n",
    "    sc = StandardScaler()\n",
    "    X_train = sc.fit_transform(X_train)\n",
    "    X_test = sc.fit_transform(X_test)\n",
    "else:\n",
    "    print('You are not scaling the feautres')"
   ]
  },
  {
   "cell_type": "markdown",
   "metadata": {},
   "source": [
    "### Algorithms Selection"
   ]
  },
  {
   "cell_type": "markdown",
   "metadata": {},
   "source": [
    "##### Training algorthims"
   ]
  },
  {
   "cell_type": "code",
   "execution_count": null,
   "metadata": {
    "scrolled": true
   },
   "outputs": [],
   "source": [
    "forest = RandomForestClassifier(n_estimators = 10, criterion = 'entropy', random_state = 42) \n",
    "# XGB = XGBClassifier(learning_rate = 0.01, n_estimators=1000, max_depth=6)  XGB is very slow in our case\n",
    "log = LogisticRegression(C = 0.0001, random_state = 0)\n",
    "gauss = GaussianNB()\n",
    "tree = DecisionTreeClassifier(criterion = 'entropy', random_state = 0 )\n",
    "LGBM = LGBMClassifier()\n",
    "\n",
    "### Create a dictionary to fectch the name\n",
    "models = [forest, log, gauss, tree, LGBM]\n",
    "models_dict = {forest:'Random Forest', log:'Logstic Regression', gauss:'Naive Bayes', tree:'Decision Tree', LGBM: 'Light GBM'}"
   ]
  },
  {
   "cell_type": "code",
   "execution_count": null,
   "metadata": {},
   "outputs": [],
   "source": [
    "for model in models:\n",
    "    model.fit(X_train, y_train)\n",
    "    print('{} is ready'.format(models_dict[model]))"
   ]
  },
  {
   "cell_type": "markdown",
   "metadata": {},
   "source": [
    "### Evaluation of alrorthims"
   ]
  },
  {
   "cell_type": "code",
   "execution_count": null,
   "metadata": {
    "scrolled": false
   },
   "outputs": [],
   "source": [
    "# scores = []\n",
    "# for model in models:\n",
    "#     score = cross_val_score(model,X, y, scoring='accuracy', cv=10, n_jobs=-1)\n",
    "#     scores.append(score.mean())\n",
    "# print('K-Fold Score when K = 10: \\n')\n",
    "# for (index, score_mean) in enumerate(scores):\n",
    "#     print('{} = {} \\n'.format(models_dict[models[index]], score_mean.round(3)))"
   ]
  },
  {
   "cell_type": "code",
   "execution_count": null,
   "metadata": {
    "scrolled": false
   },
   "outputs": [],
   "source": [
    "for model in [forest, log, gauss, tree, LGBM]:\n",
    "    y_predict = model.predict(X_test)\n",
    "    accuracy, auc = accuracy_score(y_test, y_predict).round(2),roc_auc_score(y_test, y_predict).round(2)\n",
    "    print('{}: AUC score {}'.format(models_dict[model], auc))"
   ]
  },
  {
   "cell_type": "code",
   "execution_count": null,
   "metadata": {},
   "outputs": [],
   "source": [
    "from sklearn.metrics import f1_score\n",
    "y_pred = LGBM.predict(X_test)\n",
    "f1_score = f1_score(y_test, y_pred).round(2)\n",
    "print('f1 score of {} is: {}'.format(models_dict[LGBM], f1_score))"
   ]
  },
  {
   "cell_type": "code",
   "execution_count": null,
   "metadata": {},
   "outputs": [],
   "source": [
    "classifier = forest\n",
    "scores = cross_val_score(classifier, X, y, cv=StratifiedKFold(shuffle=True), scoring='roc_auc')\n",
    "scores.mean()"
   ]
  },
  {
   "cell_type": "code",
   "execution_count": null,
   "metadata": {},
   "outputs": [],
   "source": [
    "scores.mean()"
   ]
  },
  {
   "cell_type": "code",
   "execution_count": null,
   "metadata": {
    "scrolled": false
   },
   "outputs": [],
   "source": [
    "for model in [forest, tree, LGBM]:\n",
    "    print('{}'.format(models_dict[model]))    \n",
    "    plot_confusion_matrix(model)"
   ]
  },
  {
   "cell_type": "code",
   "execution_count": null,
   "metadata": {},
   "outputs": [],
   "source": [
    "y"
   ]
  },
  {
   "cell_type": "code",
   "execution_count": null,
   "metadata": {
    "scrolled": false
   },
   "outputs": [],
   "source": [
    "from sklearn.metrics import auc\n",
    "from sklearn.metrics import plot_roc_curve\n",
    "from sklearn.model_selection import StratifiedKFold\n",
    "from sklearn.model_selection import KFold\n"
   ]
  },
  {
   "cell_type": "code",
   "execution_count": null,
   "metadata": {},
   "outputs": [],
   "source": [
    "y.value_counts()"
   ]
  },
  {
   "cell_type": "code",
   "execution_count": null,
   "metadata": {},
   "outputs": [],
   "source": [
    "cv = StratifiedKFold(n_splits=5, shuffle=True, random_state=1)\n",
    "\n",
    "for train_ix, test_ix in cv.split(X, y):\n",
    "\n",
    "    train_X, test_X = X[train_ix], X[test_ix]\n",
    "    train_y, test_y = y[train_ix], y[test_ix]\n",
    "\n",
    "    train_0, train_1 = len(train_y[train_y==0]), len(train_y[train_y==1])\n",
    "    test_0, test_1 = len(test_y[test_y==0]), len(test_y[test_y==1])\n",
    "    print('>Train: 0=%d, 1=%d, Test: 0=%d, 1=%d' % (train_0, train_1, test_0, test_1))"
   ]
  },
  {
   "cell_type": "code",
   "execution_count": null,
   "metadata": {},
   "outputs": [],
   "source": [
    "fig, ax = plt.subplots()\n",
    "cv = StratifiedKFold(n_splits=5, shuffle=True, random_state=1)\n",
    "classifier = LGBM\n",
    "for i, (train, test) in enumerate(cv.split(X, y)):\n",
    "    classifier.fit(X[train], y[train])\n",
    "    viz = plot_roc_curve(classifier, X[test], y[test],\n",
    "                         name='ROC fold {}'.format(i),\n",
    "                         alpha=0.3, lw=1, ax=ax)\n",
    "    interp_tpr = np.interp(mean_fpr, viz.fpr, viz.tpr)\n",
    "    interp_tpr[0] = 0.0\n",
    "    tprs.append(interp_tpr)\n",
    "    aucs.append(viz.roc_auc)\n",
    "    \n",
    "ax.plot([0, 1], [0, 1], linestyle='--', lw=2, color='r',\n",
    "        label='Chance', alpha=.8)\n",
    "\n",
    "mean_tpr = np.mean(tprs, axis=0)\n",
    "mean_tpr[-1] = 1.0\n",
    "mean_auc = auc(mean_fpr, mean_tpr)\n",
    "std_auc = np.std(aucs)\n",
    "ax.plot(mean_fpr, mean_tpr, color='b',\n",
    "        label=r'Mean ROC (AUC = %0.2f $\\pm$ %0.2f)' % (mean_auc, std_auc),\n",
    "        lw=2, alpha=.8)\n",
    "\n",
    "std_tpr = np.std(tprs, axis=0)\n",
    "tprs_upper = np.minimum(mean_tpr + std_tpr, 1)\n",
    "tprs_lower = np.maximum(mean_tpr - std_tpr, 0)\n",
    "ax.fill_between(mean_fpr, tprs_lower, tprs_upper, color='grey', alpha=.2,\n",
    "                label=r'$\\pm$ 1 std. dev.')\n",
    "\n",
    "ax.set(xlim=[-0.05, 1.05], ylim=[-0.05, 1.05],\n",
    "       title=\"Receiver operating characteristic example\")\n",
    "ax.legend(loc=\"lower right\")\n",
    "plt.show()"
   ]
  },
  {
   "cell_type": "markdown",
   "metadata": {},
   "source": [
    "### Parameter Tuning"
   ]
  },
  {
   "cell_type": "code",
   "execution_count": null,
   "metadata": {},
   "outputs": [],
   "source": [
    "from sklearn.metrics import roc_curve, auc"
   ]
  },
  {
   "cell_type": "code",
   "execution_count": null,
   "metadata": {},
   "outputs": [],
   "source": [
    "max_depths = np.linspace(1, 32, 32, endpoint=True)\n",
    "train_results = []\n",
    "test_results = []\n",
    "for max_depth in max_depths:\n",
    "    dt = DecisionTreeClassifier(max_depth=max_depth)\n",
    "    dt.fit(X_train, y_train)\n",
    "    train_pred = dt.predict(X_train)\n",
    "    false_positive_rate, true_positive_rate, thresholds = roc_curve(y_train, train_pred)\n",
    "    roc_auc = auc(false_positive_rate, true_positive_rate)\n",
    "    # Add auc score to previous train results\n",
    "    train_results.append(roc_auc)\n",
    "    y_pred = dt.predict(X_test)\n",
    "    false_positive_rate, true_positive_rate, thresholds = roc_curve(y_test, y_pred)\n",
    "    roc_auc = auc(false_positive_rate, true_positive_rate)\n",
    "    # Add auc score to previous test results\n",
    "    test_results.append(roc_auc)\n",
    "from matplotlib.legend_handler import HandlerLine2D\n",
    "line1, = plt.plot(max_depths, train_results, 'b', label='Train AUC')\n",
    "line2, = plt.plot(max_depths, test_results, 'r', label='Test AUC')\n",
    "plt.legend(handler_map={line1: HandlerLine2D(numpoints=2)})\n",
    "plt.ylabel('AUC score')\n",
    "plt.xlabel('Tree depth')\n",
    "plt.show()"
   ]
  },
  {
   "cell_type": "code",
   "execution_count": null,
   "metadata": {},
   "outputs": [],
   "source": [
    "min_samples_splits = np.linspace(0.1, 1.0, 10, endpoint=True)\n",
    "train_results = []\n",
    "test_results = []\n",
    "for min_samples_split in min_samples_splits:\n",
    "    dt = DecisionTreeClassifier(min_samples_split=min_samples_split)\n",
    "    dt.fit(X_train, y_train)\n",
    "    train_pred = dt.predict(X_train)\n",
    "    false_positive_rate, true_positive_rate, thresholds = roc_curve(y_train, train_pred)\n",
    "    roc_auc = auc(false_positive_rate, true_positive_rate)\n",
    "    train_results.append(roc_auc)\n",
    "    y_pred = dt.predict(X_test)\n",
    "    false_positive_rate, true_positive_rate, thresholds = roc_curve(y_test, y_pred)\n",
    "    roc_auc = auc(false_positive_rate, true_positive_rate)\n",
    "    test_results.append(roc_auc)\n",
    "from matplotlib.legend_handler import HandlerLine2D\n",
    "line1, = plt.plot(min_samples_splits, train_results, 'b', label='Train AUC')\n",
    "line2, = plt.plot(min_samples_splits, test_results, 'r', label='Test AUC')\n",
    "plt.legend(handler_map={line1: HandlerLine2D(numpoints=2)})\n",
    "plt.ylabel('AUC score')\n",
    "plt.xlabel('min samples split')\n",
    "plt.show()"
   ]
  },
  {
   "cell_type": "code",
   "execution_count": null,
   "metadata": {},
   "outputs": [],
   "source": [
    "min_samples_leafs = np.linspace(0.1, 0.5, 5, endpoint=True)\n",
    "train_results = []\n",
    "test_results = []\n",
    "for min_samples_leaf in min_samples_leafs:\n",
    "    dt = DecisionTreeClassifier(min_samples_leaf=min_samples_leaf)\n",
    "    dt.fit(X_train, y_train)\n",
    "    train_pred = dt.predict(X_train)\n",
    "    false_positive_rate, true_positive_rate, thresholds = roc_curve(y_train, train_pred)\n",
    "    roc_auc = auc(false_positive_rate, true_positive_rate)\n",
    "    train_results.append(roc_auc)\n",
    "    y_pred = dt.predict(X_test)\n",
    "    false_positive_rate, true_positive_rate, thresholds = roc_curve(y_test, y_pred)\n",
    "    roc_auc = auc(false_positive_rate, true_positive_rate)\n",
    "    test_results.append(roc_auc)\n",
    "from matplotlib.legend_handler import HandlerLine2D\n",
    "line1, = plt.plot(min_samples_leafs, train_results, 'b', label='Train AUC')\n",
    "line2, = plt.plot(min_samples_leafs, test_results, 'r', label='Test AUC')\n",
    "plt.legend(handler_map={line1: HandlerLine2D(numpoints=2)})\n",
    "plt.ylabel('AUC score')\n",
    "plt.xlabel('min samples leaf')\n",
    "plt.show()"
   ]
  },
  {
   "cell_type": "markdown",
   "metadata": {},
   "source": [
    "### Part 2: Evaluate algorithms using raw data \n",
    "    \n",
    "   - K-Fold \n",
    "   - Confusion Matrix\n",
    "   - Recall and precision\n",
    "   - Algorthims\n",
    "     - Logsitic Regression\n",
    "     - KNN\n",
    "     - Support Vector Machine\n",
    "     - Random Forests\n",
    "     - naive bayes\n",
    "\n",
    "   "
   ]
  },
  {
   "cell_type": "markdown",
   "metadata": {},
   "source": [
    "### SVM (Support Vector Machine)\n",
    "-  Pros\n",
    "    1. When the number of features/columns are higher, SVM does well\n",
    "    2. Best algorithm when classes are separable.\n",
    "    3. Outliers have less impact.\n",
    "    4. SVM is suited for extreme case binary classification.  \n",
    "   \n",
    "- Cons:\n",
    "    1. Slow: For larger dataset, it requires a large amount of time to process.\n",
    "    2. Poor performance with Overlapped classes.\n",
    "    3. Selecting appropriate hyperparameters is important: That will allow for sufficient generalization performance.\n",
    "    4. Selecting the appropriate kernel function can be tricky.  \n",
    "   \n",
    "Applications:\n",
    "Bag of words application(many features and columns), speech recognition data, classification of images(non-linear data), medical analytics(non linear data), text classification(many features)\n"
   ]
  },
  {
   "cell_type": "markdown",
   "metadata": {},
   "source": [
    "### Part 3: Transform the features and evaluation"
   ]
  },
  {
   "cell_type": "markdown",
   "metadata": {},
   "source": [
    "### Part 4:  Model Optimization ( Feature importance and parameter tuning)"
   ]
  },
  {
   "cell_type": "markdown",
   "metadata": {},
   "source": [
    "#### Challenge 1: Imbalanced dataset\n",
    "   \n",
    "   only 8% of output is 1 (which means positive in this dataset) !\n",
    "   \n",
    "   ##### Why would this be an issue?   (explained by Google)\n",
    "    With so few positives relative to negatives, the training model will spend most of its time on negative examples and not learn enough from positive ones.   \n",
    "    If you have an imbalanced data set, first try training on the true distribution. If the model works well and generalizes, you're done! If not, try downsampling and upweighting technique.\n",
    "   \n",
    "   \n",
    "   \n",
    "   There are multiple ways dealing with imbalanced data. \n",
    "   - Try different algorithms\n",
    "   - Transform dataset\n",
    "       - Oversample (for small dataset)\n",
    "       - Undersample (for big dataset)\n",
    "   - and more...\n",
    "   \n",
    "\n",
    "   \n",
    "   We will try these out in a second."
   ]
  },
  {
   "cell_type": "code",
   "execution_count": null,
   "metadata": {},
   "outputs": [],
   "source": []
  },
  {
   "cell_type": "markdown",
   "metadata": {},
   "source": [
    "# _Pro & Cons for different algorithms_\n",
    "\n",
    "Source: https://towardsdatascience.com/pros-and-cons-of-various-classification-ml-algorithms-3b5bfb3c87d6\n",
    "\n",
    "### SVM (Support Vector Machine)\n",
    "- Pros\n",
    "  1. Performs well in Higher dimension. In real world there are infinite dimensions (and not just 2D and 3D). For instance image data, gene data, medical data etc. has higher dimensions and SVM is useful in that. Basically when the number of features/columns are higher, SVM does well\n",
    "  2. Best algorithm when classes are separable. (when instances of both the classes can be easily separated either by a straight line or non-linearly). \n",
    "  3. Outliers have less impact.\n",
    "  4. SVM is suited for extreme case binary classification.  \n",
    "\n",
    "- Cons:\n",
    "    1. Slow: For larger dataset, it requires a large amount of time to process.\n",
    "    2. Poor performance with Overlapped classes.\n",
    "    3. Selecting appropriate hyperparameters is important: That will allow for sufficient generalization performance.\n",
    "    4. Selecting the appropriate kernel function can be tricky.  \n",
    "    \n",
    "Applications:\n",
    "Bag of words application(many features and columns), speech recognition data, classification of images(non-linear data), medical analytics(non linear data), text classification(many features)\n",
    "\n",
    "\n",
    "### Naive Bayes\n",
    " - Pros\n",
    "    1. Real time predictions: It is very fast and can be used in real time.\n",
    "    2. Scalable with Large datasets\n",
    "    3. Insensitive to irrelevant features.\n",
    "    4. Multi class prediction is effectively done in Naive Bayes\n",
    "    5. Good performance with high dimensional data(no. of features is large)\n",
    " - Cons\n",
    "    1. Independence of features does not hold: The fundamental Naive Bayes assumption is that each feature makes an independent and equal contribution to the outcome. However this condition is not met most of the times.\n",
    "    2. Bad estimator: Probability outputs from predict_proba are not to be taken too seriously.\n",
    "    3. Training data should represent population well: If you have no occurrences of a class label and a certain attribute value together (e.g. class=”No”, shape=”Overcast “) then the posterior probability will be zero. So if the training data is not representative of the population, Naive bayes does not work well.(This problem is removed by smoothening techniques).\n",
    "\n",
    "Applications:\n",
    "Naive Bayes is used in Text classification/ Spam Filtering/ Sentiment Analysis. It is used in text classification (it can predict on multiple classes and doesn’t mind dealing with irrelevant features), Spam filtering (identify spam e-mail) and Sentiment Analysis (in social media analysis, to identify positive and negative sentiments), recommendation systems (what will the user buy next)\n",
    "\n",
    "### Logistic Regression\n",
    " - Pros\n",
    "    1. Simple to implement\n",
    "    2. Effective\n",
    "    3. Feature scaling not needed: Does not require input features to be scaled (can work with scaled features too, but doesn’t require scaling)\n",
    "    3. Tuning of hyperparameters not needed.\n",
    " - Cons\n",
    "    1. Poor performance on non-linear data(image data for e.g)\n",
    "    2. Poor performance with irrelevant and highly correlated features (use Boruta plot for removing similar or correlated features and irrelevant features).\n",
    "    3. Not very powerful algorithm and can be easily outperformed by other algorithms.\n",
    "    4. High reliance on proper presentation of data. All the important variables / features should be identified for it to work well.\n",
    "Applications:\n",
    "Any classification problem that is preferably binary (it can also perform multi class classification, but binary is preferred). For example you can use it if your output class has 2 outcomes; cancer detection problems, whether a student will pass/fail, default/no default in case of customer taking loan, whether a customer will churn or not, email is spam or not etc.\n",
    "\n",
    "### Random Forest\n",
    " - Pros:\n",
    "    1. Random forest can decorrelate trees. It picks the training sample and gives each tree a subset of the features(suppose training data was [1,2,3,4,5,6], so one tree will get subset of training data [1,2,3,2,6,6]. Note that size of training data remains same, both datas have length 6 and that feature ‘2’ and feature ‘6’ are repeated in the randomly sampled training data given to one tree. Each tree predicts according to the features it has. In this case tree 1 only has access to features 1,2,3 and 6 so it can predict based on these features. Some other tree will have access to features 1,4,5 say so it will predict according to those features. If features are highly correlated then that problem can be tackled in random forest.\n",
    "    2. Reduced error: Random forest is an ensemble of decision trees. For predicting the outcome of a particular row, random forest takes inputs from all the trees and then predicts the outcome. This ensures that the individual errors of trees are minimized and overall variance and error is reduced.\n",
    "    3. Good Performance on Imbalanced datasets : It can also handle errors in imbalanced data (one class is majority and other class is minority)\n",
    "    4. Handling of huge amount of data: It can handle huge amount of data with higher dimensionality of variables.\n",
    "    5. Good handling of missing data: It can handle missing data very well. So if there is large amount of missing data in your model, it will give good results.\n",
    "    6. Little impact of outliers: As the final outcome is taken by consulting many decision trees so certain data points which are outliers will not have a very big impact on Random Forest.\n",
    "    7. No problem of overfitting: In Random forest considers only a subset of features, and the final outcome depends on all the trees. So there is more generalization and less overfitting.\n",
    "    8. Useful to extract feature importance (we can use it for feature selection)\n",
    " - Cons:\n",
    "    1. Features need to have some predictive power else they won’t work.\n",
    "    2. Predictions of the trees need to be uncorrelated.\n",
    "    3. Appears as Black Box: It is tough to know what is happening. You can at best try different parameters and random seeds to change the outcomes and performance.\n",
    "- Applications:\n",
    "Credit card default, fraud customer/not, easy to identify patient’s disease or not, recommendation system for ecommerce sites.\n",
    "\n",
    "### Decision Trees\n",
    " - Pros\n",
    "    1. Normalization or scaling of data not needed.\n",
    "    2. No considerable impact of missing values.\n",
    "    3. Easy to explain to non-technical team members.\n",
    "    4. Easy visualization\n",
    "    5. Automatic Feature selection : Irrelevant features won’t affect decision trees.\n",
    " - Cons\n",
    "    1. Prone to overfitting.\n",
    "    2. Sensitive to data. If data changes slightly, the outcomes can change to a very large extent.\n",
    "    3. Higher time required to train decision trees.\n",
    "- Applications:\n",
    "Identifying buyers for products, prediction of likelihood of default, which strategy can maximize profit, finding strategy for cost minimization, which features are most important to attract and retain customers (is it the frequency of shopping, is it the frequent discounts, is it the product mix etc), fault diagnosis in machines(keep measuring pressure, vibrations and other measures and predict before a fault occurs) etc.  \n",
    "\n",
    "\n",
    "### XGBoost\n",
    " - Pros\n",
    "    1. Less feature engineering required (No need for scaling, normalizing data, can also handle missing values well)\n",
    "    2. Feature importance can be found out(it output importance of each feature, can be used for feature selection)\n",
    "    3. Fast to interpret\n",
    "    4. Outliers have minimal impact.\n",
    "    5. Handles large sized datasets well.\n",
    "    6. Good Execution speed\n",
    "    7. Good model performance (wins most of the Kaggle competitions)\n",
    "    8. Less prone to overfitting\n",
    " - Cons\n",
    "    1. Difficult interpretation , visualization tough\n",
    "    2. Overfitting possible if parameters not tuned properly.\n",
    "    3. Harder to tune as there are too many hyperparameters.\n",
    "- Applications\n",
    "Any classification problem. Specially useful if you have too many features and too large datasets, outliers are present, there are many missing values and you don’t want to do much feature engineering. It wins almost all competitions so this is an algo you must definitely have in mind while solving any classification problem. \n",
    "\n",
    "\n",
    "### k-NN (K Nearest Neighbors)\n",
    " - Pros\n",
    "    1. Simple to understand and impelment\n",
    "    2. No assumption about data (for e.g. in case of linear regression we assume dependent variable and independent variables are linearly related, in Naïve Bayes we assume features are independent of each other etc., but k-NN makes no assumptions about data)\n",
    "    3. Constantly evolving model: When it is exposed to new data, it changes to accommodate the new data points.\n",
    "    4. Multi-class problems can also be solved.\n",
    "    5. One Hyper Parameter: K-NN might take some time while selecting the first hyper parameter but after that rest of the parameters are aligned to it.\n",
    " - Cons\n",
    "    1. Slow for large datasets.\n",
    "    2. Curse of dimensionality: Does not work very well on datasets with large number of features.\n",
    "    3. Scaling of data absolute must.\n",
    "    4. Does not work well on Imbalanced data. So before using k-NN either undersamplemajority class or oversample minority class and have a balanced dataset.\n",
    "    5. Sensitive to outliers.\n",
    "    6. Can’t deal well with missing values\n",
    "- Applications:\n",
    "You can use it for any classification problem when dataset is smaller, and has lesser number of features so that computation time taken by k-NN is less. If you do not know the shape of the data and the way output and inputs are related (whether classes can be separated by a line or ellipse or parabola etc.), then you can use k-NN."
   ]
  },
  {
   "cell_type": "code",
   "execution_count": null,
   "metadata": {},
   "outputs": [],
   "source": []
  },
  {
   "cell_type": "code",
   "execution_count": null,
   "metadata": {},
   "outputs": [],
   "source": [
    "# class dataframe():\n",
    "    \n",
    "#     def __init__(self,df: pd.DataFrame):\n",
    "#         self.df = df \n",
    "\n",
    "#     def cols_selection(self, cols):\n",
    "#         dftemp = self.df[cols]\n",
    "#         return dftemp\n",
    "    \n",
    "#     def show_head(self):\n",
    "#         dftemp = self.df.head()\n",
    "#         return dftemp\n",
    "\n",
    "#     def value_count(self, cols:list):\n",
    "#         value_counts = self.df[cols].value_counts().sort_values(ascending = False)\n",
    "#         return value_counts\n",
    "\n",
    "#     def check_null(self):\n",
    "#         all_cols = self.df.isnull().sum().sort_values(ascending = False)\n",
    "#         null_cols = all_cols[all_cols > 0]\n",
    "#         return null_cols\n",
    "\n",
    "#     def check_null_percent(self):\n",
    "#         #null_cols = check_null(self.df)\n",
    "#         all_cols = self.df.isnull().sum().sort_values(ascending = False)\n",
    "#         null_cols = all_cols[all_cols > 0]\n",
    "#         null_percent = ((null_cols / len(self.df))* 100).round(3)\n",
    "#         return null_percent\n",
    "\n",
    "#     def index_to_list(self):\n",
    "#         index_to_list = self.df.index.to_list()\n",
    "#         return index_to_list\n",
    "\n",
    "#     def drop_cols(self, cols:list):\n",
    "#         self.df = self.df.drop(cols, axis = 1)\n",
    "\n",
    "\n",
    "#     def drop_threshold_cols(self, threshold:int):\n",
    "#        # null_percent = check_null_percent(self.df)\n",
    "#         all_cols = self.df.isnull().sum().sort_values(ascending = False)\n",
    "#         null_cols = all_cols[all_cols > 0]\n",
    "#         null_percent = ((null_cols / len(self.df))* 100).round(3)\n",
    "#         over_threshold_col = null_percent[null_percent > threshold]\n",
    "#         over_threshold_col = over_threshold_col.index.to_list()\n",
    "#         self.df = self.df.drop(over_threshold_col, axis = 1)\n",
    "\n",
    "\n",
    "#     def fill_cols_zero(self, cols:list):\n",
    "#         self.df[cols] = self.df[cols].fillna(value=0)\n",
    "\n",
    "#     def fill_cols_mode(self, cols:list):\n",
    "#         for col in cols:\n",
    "#             self.df[col] = self.df[col].fillna(self.df[col].mode()[0])\n",
    "\n",
    "#     def fill_cols_mean(self, cols:list):\n",
    "#         for col in cols:\n",
    "#             self.df[col] = self.df[col].fillna(self.df[col].mean())\n",
    "\n",
    "#     def check_start(self, vals:list):\n",
    "#         lst = []\n",
    "#         cols = self.df.columns.to_list()\n",
    "#         for col in cols:\n",
    "#             for val in vals:\n",
    "#                 if col.startswith(val):\n",
    "#                     lst.append(col)\n",
    "#         return lst\n",
    "\n",
    "#     def check_end(self, vals:list):\n",
    "#         lst = []\n",
    "#         cols = self.df.columns.to_list()\n",
    "#         for col in cols:\n",
    "#             for val in vals:\n",
    "#                 if col.endswith(val):\n",
    "#                     lst.append(col)\n",
    "#         return lst\n",
    "\n",
    "#     def count_plot(self, col:list):\n",
    "#         pl = 'cool'\n",
    "#         fig, ax = plt.subplots(figsize=(13,5))\n",
    "#         sns.countplot(x = col, data = self.df, palette = pl, ax = ax) \n",
    "        \n",
    "#     def groupby_x_target_percent(self,x:str,hue:str):  \n",
    "#         pl = 'cool'\n",
    "#         groupbt_x_by_hue = (self.df\n",
    "#         .groupby(x)[y]\n",
    "#         .value_counts(normalize=True)\n",
    "#         .mul(100)\n",
    "#         .rename('percent')\n",
    "#         .reset_index()\n",
    "#         .pipe((sns.catplot,'data'), x=x,y='percent',hue=y,kind='bar', palette = pl, height=9, aspect=1))\n",
    "    \n",
    "    \n",
    "#     def checkout(self):\n",
    "#             return self.df"
   ]
  },
  {
   "cell_type": "code",
   "execution_count": null,
   "metadata": {},
   "outputs": [],
   "source": []
  }
 ],
 "metadata": {
  "kernelspec": {
   "display_name": "Python 3",
   "language": "python",
   "name": "python3"
  },
  "language_info": {
   "codemirror_mode": {
    "name": "ipython",
    "version": 3
   },
   "file_extension": ".py",
   "mimetype": "text/x-python",
   "name": "python",
   "nbconvert_exporter": "python",
   "pygments_lexer": "ipython3",
   "version": "3.7.6"
  }
 },
 "nbformat": 4,
 "nbformat_minor": 4
}
